{
  "nbformat": 4,
  "nbformat_minor": 0,
  "metadata": {
    "colab": {
      "provenance": []
    },
    "kernelspec": {
      "name": "python3",
      "display_name": "Python 3"
    },
    "language_info": {
      "name": "python"
    }
  },
  "cells": [
    {
      "cell_type": "markdown",
      "source": [
        "\n",
        "# **Taller 1**\n",
        "\n",
        "> Mineria de Datos\n",
        "\n",
        ">Daniela Alexandra Herrera Fandiño\n",
        "\n",
        ">Septiembre 2022\n",
        "\n",
        "---\n",
        "\n"
      ],
      "metadata": {
        "id": "t29fmergR1Q5"
      }
    },
    {
      "cell_type": "markdown",
      "source": [
        "***Ejercicio 1***\n",
        "\n",
        "Cree una función que transforme grados Fahrenheit a grados centígrados"
      ],
      "metadata": {
        "id": "xvNvEjyJSdPP"
      }
    },
    {
      "cell_type": "code",
      "source": [
        "#Teniendo en cuenta:Para convertir de Fahrenheit a Celsius, simplemente reste 32 y multiplique por 0.5556 (o 5/9). \n",
        "tem = float(input(\"Ingrese la temperatura:\"))\n",
        "res = ((tem - 32) * 5/9)\n",
        "print(tem, \"grados Fahrenheit equivalen a\" ,res, \"grados Centigrados\")\n",
        "\n"
      ],
      "metadata": {
        "id": "Ic3xZG5pTVp8"
      },
      "execution_count": null,
      "outputs": []
    },
    {
      "cell_type": "markdown",
      "source": [
        "***Ejercicio 2***\n",
        "\n",
        "Escribir un programa que almacene la cadena de caracteres contraseña en una variable,\n",
        "pregunte al usuario por la contraseña e imprima por pantalla si el valor es correcto o no en función\n",
        "de los siguientes aspectos:\n",
        "1. Falta al menos un carácter numérico\n",
        "2. Falta al menos uno de los siguientes carácter especiales : *, _ , !, $, %\n",
        "3. Falta al menos una mayúscula"
      ],
      "metadata": {
        "id": "-DwoxfW7SwXU"
      }
    },
    {
      "cell_type": "code",
      "source": [
        "from string import punctuation #importando libreria para lectura de caracteres especiales\n",
        "\n",
        "def contrasenia(passw):\n",
        "\n",
        "  if len(passw) < 6 or len(passw) > 12: #para efectos del ejercicio se emplea un nuevo aspecto referente a la longitud de la contraseña\n",
        "    print(\"La contaseña debe contener entre 6 y 12 digitos\")\n",
        "  elif not any([c.isdigit() for c in passw]): #elif not any = si alguno de los caracteres ... \n",
        "    print(\"Falta al menos un carácter numérico\")\n",
        "  elif not any([True if c in punctuation else False for c in passw]):\n",
        "    print(\"Falta al menos un carácter especial\")\n",
        "  elif not any([c.isupper() for c in passw]):\n",
        "    print(\"Falta al menos una mayúscula\")\n",
        "  else:                                       #si se han cumplido los requisitos anterior entonces...\n",
        "    print(\"La contraseña se ha establecido correctamente \")\n",
        "    return True\n",
        "  return False\n",
        "\n",
        "passw = input(\"Ingrese su contraseña:\")\n",
        "verificacion = contrasenia(passw)"
      ],
      "metadata": {
        "id": "VqAC23BNUAus"
      },
      "execution_count": null,
      "outputs": []
    },
    {
      "cell_type": "markdown",
      "source": [
        "***Ejercicio 3***\n",
        "\n",
        "Laura y Sebastián vieron una promoción en Buscalibre dónde por la compra de 2 libros te llevas el\n",
        "tercero de menor valor. Ellos quieren analizar si hay una forma de adquirir 6 libros en dónde\n",
        "puedan sacar la mayor ganancia posible. Las opciones de libros son los siguientes:\n",
        "\n",
        "• Libro 1 por $50.000\n",
        "\n",
        "• Libro 2 por $30.000\n",
        "\n",
        "• Libro 3 por $80.000\n",
        "\n",
        "• Libro 4 por $20.000\n",
        "\n",
        "• Libro 5 por $100.000\n",
        "\n",
        "• Libro 6 por $40.000\n",
        "\n",
        "Escriba un programa que arroje cual debería ser la combinación de libros adecuada para ahorrar lo\n",
        "máximo posible.\n",
        "\n",
        "Ejemplo de Salida:\n",
        "\n",
        "• Combinación de libros 1: Libro 1, 4 y 6.\n",
        "\n",
        "• Combinación de libros 2: Libro 2, 3, 5.\n",
        "\n",
        "• Total de dinero ahorrado: “Total de libros” – “Descuento de promoción”.\n",
        "\n"
      ],
      "metadata": {
        "id": "eoXkFAzSS3Sf"
      }
    },
    {
      "cell_type": "code",
      "source": [
        "from itertools import combinations\n",
        "A = [\"l1\", \"l2\", \"l3\", \"l4\", \"l5\", \"l6\"]\n",
        "temp = combinations(A, 3)\n",
        "for i in list(temp):\n",
        "\tprint (i)"
      ],
      "metadata": {
        "id": "c1r7P7cPNBdz"
      },
      "execution_count": null,
      "outputs": []
    }
  ]
}